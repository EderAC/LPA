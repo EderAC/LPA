{
 "cells": [
  {
   "cell_type": "markdown",
   "metadata": {},
   "source": [
    "Uma gestora de uma empresa de tecnologia deseja\n",
    "promover maior igualdade salarial entre os\n",
    "funcionários e elaborar planos de carreira individuais.\n",
    "Nesse contexto, a gestora solicitou análises\n",
    "específicas sobre as disparidades salariais, com ênfase\n",
    "na equidade de gênero, níveis de senioridade e anos\n",
    "de experiência"
   ]
  },
  {
   "cell_type": "markdown",
   "metadata": {},
   "source": [
    "Entregue as seguintes informações para a gestora:\n",
    "1. Distribuição do nº de funcionários, de acordo com\n",
    "gênero, nível de senioridade e nível de formação\n",
    "2. Evolução média salarial ao longo do tempo, com base na data de último aumento\n",
    "3. Distribuição salarial por nível de senioridade e gênero\n",
    "4. Distribuição salarial por anos de experiência e gênero\n",
    "Com base nisso, ela tomará decisões importantes\n",
    "para a empresa."
   ]
  },
  {
   "cell_type": "code",
   "execution_count": null,
   "metadata": {},
   "outputs": [],
   "source": [
    "import pandas as pd\n",
    "import matplotlib.pyplot as plt\n",
    "import seaborn as sns"
   ]
  },
  {
   "cell_type": "code",
   "execution_count": null,
   "metadata": {},
   "outputs": [],
   "source": [
    "dados = pd.read_csv('dados_salarial_funcionarios.csv')\n",
    "dados.columns\n",
    "\n",
    "dados.head()"
   ]
  },
  {
   "cell_type": "code",
   "execution_count": null,
   "metadata": {},
   "outputs": [],
   "source": [
    "dados.shape"
   ]
  },
  {
   "cell_type": "code",
   "execution_count": null,
   "metadata": {},
   "outputs": [],
   "source": [
    "dados.dtypes"
   ]
  },
  {
   "cell_type": "code",
   "execution_count": null,
   "metadata": {},
   "outputs": [],
   "source": [
    "# Coluna data está como texto e precisamos trnasformá-la para data\n",
    "dados['Data ultimo aumento'] = pd.to_datetime(dados['Data ultimo aumento'])"
   ]
  },
  {
   "cell_type": "code",
   "execution_count": null,
   "metadata": {},
   "outputs": [],
   "source": [
    "dados.head()"
   ]
  },
  {
   "cell_type": "code",
   "execution_count": null,
   "metadata": {},
   "outputs": [],
   "source": [
    "numerica_cols = [col for col in dados.columns if dados[col].dtype != 'object']\n",
    "categoricas_cols = [col for col in dados.columns if dados[col].dtype == 'object']\n",
    "\n",
    "# Resumo das variáveis numéricas - Imprime alguns valores de medidas\n",
    "dados[numerica_cols].describe()"
   ]
  },
  {
   "cell_type": "code",
   "execution_count": null,
   "metadata": {},
   "outputs": [],
   "source": [
    "dados[categoricas_cols].describe()"
   ]
  },
  {
   "cell_type": "code",
   "execution_count": null,
   "metadata": {},
   "outputs": [],
   "source": [
    "# veirifica se há valores faltantes\n",
    "dados.isna().any()"
   ]
  },
  {
   "cell_type": "code",
   "execution_count": null,
   "metadata": {},
   "outputs": [],
   "source": [
    "dados.isna().sum()"
   ]
  },
  {
   "cell_type": "code",
   "execution_count": null,
   "metadata": {},
   "outputs": [],
   "source": [
    "dados['Area Formacao'].fillna('Nada Consta', inplace=True)\n",
    "dados.isna().sum()\n"
   ]
  },
  {
   "cell_type": "code",
   "execution_count": null,
   "metadata": {},
   "outputs": [],
   "source": [
    "dados.duplicated().sum()\n",
    "dados.drop_duplicates(inplace=True)\n",
    "dados.shape"
   ]
  },
  {
   "cell_type": "code",
   "execution_count": null,
   "metadata": {},
   "outputs": [],
   "source": [
    "dados['Nivel'].value_counts()"
   ]
  },
  {
   "cell_type": "code",
   "execution_count": null,
   "metadata": {},
   "outputs": [],
   "source": [
    "dados['Faixa Salarial'].value_counts()\n"
   ]
  },
  {
   "cell_type": "code",
   "execution_count": null,
   "metadata": {},
   "outputs": [],
   "source": [
    "dados['Genero'].value_counts()"
   ]
  },
  {
   "cell_type": "code",
   "execution_count": null,
   "metadata": {},
   "outputs": [],
   "source": [
    "plt.figure(figsize=(20,10))\n",
    "grafico_1 = plt.bar(dados['Genero'].unique(), dados['Genero'].value_counts())\n",
    "plt.title('Distribuição de funcionários - Homens e Mulheres', fontsize=30)\n",
    "plt.ylabel('Total de funcionários', fontsize=16)\n",
    "\n",
    "plt.xticks(fontsize=14)\n",
    "plt.yticks(fontsize=14)\n",
    "\n",
    "plt.bar_label(grafico_1, fmt=\"%.01f\", size=16, label_type=\"edge\")\n"
   ]
  },
  {
   "cell_type": "code",
   "execution_count": null,
   "metadata": {},
   "outputs": [],
   "source": [
    "plt.figure(figsize=(20,10))\n",
    "sns.countplot(y=\"Genero\", data=dados, order=dados['Genero'].value_counts().index)\\\n",
    "  .set_title(\"Distribuição de funcionários - Homens e Mulheres\")"
   ]
  },
  {
   "cell_type": "code",
   "execution_count": null,
   "metadata": {},
   "outputs": [],
   "source": [
    "plt.figure(figsize=(20,10))\n",
    "grafico_2 = plt.bar(dados['Nivel Ensino'].unique(), dados['Nivel Ensino'].value_counts())\n",
    "plt.title('Distribuição de funcionários por nível de formação', fontsize=30)\n",
    "plt.ylabel('Total de funcionários', fontsize=16)\n",
    "\n",
    "plt.xticks(fontsize=14)\n",
    "plt.yticks(fontsize=14)\n",
    "\n",
    "plt.bar_label(grafico_2, fmt=\"%.01f\", size=16, label_type=\"edge\")"
   ]
  },
  {
   "cell_type": "code",
   "execution_count": null,
   "metadata": {},
   "outputs": [],
   "source": [
    "plt.figure(figsize=(20,10))\n",
    "grafico_3 = plt.bar(dados['Nivel'].unique(), dados['Nivel'].value_counts())\n",
    "plt.title('Distribuição de funcionários por nível de senioridade', fontsize=30)\n",
    "plt.ylabel('Total de funcionários', fontsize=16)\n",
    "\n",
    "plt.xticks(fontsize=14)\n",
    "plt.yticks(fontsize=14)\n",
    "\n",
    "plt.bar_label(grafico_3, fmt=\"%.01f\", size=16, label_type=\"edge\")"
   ]
  },
  {
   "cell_type": "code",
   "execution_count": null,
   "metadata": {},
   "outputs": [],
   "source": [
    "dados['Data ultimo aumento - Ano'] = dados['Data ultimo aumento'].dt.year\n",
    "dados[\"Data ultimo aumento - Ano\"] = dados['Data ultimo aumento - Ano'].astype(str)\n",
    "dados.dtypes"
   ]
  },
  {
   "cell_type": "code",
   "execution_count": null,
   "metadata": {},
   "outputs": [],
   "source": [
    "media_salarial_ano = dados.groupby(['Data ultimo aumento - Ano', 'Genero'])['Faixa Salarial – numero'].mean().round(0)\n",
    "media_salarial_ano.head()"
   ]
  },
  {
   "cell_type": "code",
   "execution_count": null,
   "metadata": {},
   "outputs": [],
   "source": [
    "media_salarial_ano = media_salarial_ano.reset_index(name='Salario Medio')\n",
    "media_salarial_ano.head()"
   ]
  },
  {
   "cell_type": "code",
   "execution_count": null,
   "metadata": {},
   "outputs": [],
   "source": [
    "plt.figure(figsize=(20,10))\n",
    "sns.barplot(x='Data ultimo aumento - Ano', y='Salario Medio', hue='Genero', data=media_salarial_ano, hue_order=['Masculino', 'Feminino'])\n",
    "\n",
    "plt.ylabel('Total de funcionários', fontsize=16)\n",
    "plt.xlabel('Ano do último aumento', fontsize=16)\n",
    "\n",
    "plt.xticks(fontsize=14)\n",
    "plt.yticks(fontsize=14);\n"
   ]
  },
  {
   "cell_type": "code",
   "execution_count": null,
   "metadata": {},
   "outputs": [],
   "source": [
    "media_nivel_cargo = dados.groupby(['Genero', 'Nivel'])['Faixa Salarial – numero'].mean()\n",
    "media_nivel_cargo.head()"
   ]
  },
  {
   "cell_type": "code",
   "execution_count": null,
   "metadata": {},
   "outputs": [],
   "source": [
    "media_nivel_cargo = media_nivel_cargo.reset_index(name='Salario Medio')\n",
    "media_nivel_cargo.head()"
   ]
  },
  {
   "cell_type": "code",
   "execution_count": null,
   "metadata": {},
   "outputs": [],
   "source": [
    "plt.figure(figsize=(20,10))\n",
    "sns.barplot(x='Nivel', y='Salario Medio', hue='Genero', data=media_nivel_cargo, hue_order=['Masculino', 'Feminino'])\n",
    "\n",
    "plt.ylabel('Salário Médio', fontsize=16)\n",
    "plt.xlabel('Nível do cargo', fontsize=16)\n",
    "\n",
    "plt.xticks(fontsize=14)\n",
    "plt.yticks(fontsize=14);\n"
   ]
  },
  {
   "cell_type": "code",
   "execution_count": null,
   "metadata": {},
   "outputs": [],
   "source": [
    "dados['Faixa Salarial – numero'].hist()"
   ]
  },
  {
   "cell_type": "code",
   "execution_count": null,
   "metadata": {},
   "outputs": [],
   "source": [
    "media_anos_experiencia = dados.groupby(['Genero', 'Anos experiencia'])['Faixa Salarial – numero'].mean()\n",
    "media_anos_experiencia.head()"
   ]
  },
  {
   "cell_type": "code",
   "execution_count": null,
   "metadata": {},
   "outputs": [],
   "source": [
    "media_anos_experiencia = media_anos_experiencia.reset_index(name='Salario Medio')\n",
    "media_anos_experiencia.head()"
   ]
  },
  {
   "cell_type": "code",
   "execution_count": null,
   "metadata": {},
   "outputs": [],
   "source": [
    "plt.figure(figsize=(20,10))\n",
    "sns.barplot(x='Anos experiencia', y='Salario Medio', hue='Genero', data=media_anos_experiencia, hue_order=['Masculino', 'Feminino'])\n",
    "\n",
    "plt.ylabel('Salario Medio', fontsize=16)\n",
    "plt.xlabel('Ano de experiencia', fontsize=16)\n",
    "\n",
    "plt.xticks(fontsize=14)\n",
    "plt.yticks(fontsize=14);\n"
   ]
  }
 ],
 "metadata": {
  "kernelspec": {
   "display_name": "Python 3",
   "language": "python",
   "name": "python3"
  },
  "language_info": {
   "codemirror_mode": {
    "name": "ipython",
    "version": 3
   },
   "file_extension": ".py",
   "mimetype": "text/x-python",
   "name": "python",
   "nbconvert_exporter": "python",
   "pygments_lexer": "ipython3",
   "version": "3.8.10"
  }
 },
 "nbformat": 4,
 "nbformat_minor": 2
}
